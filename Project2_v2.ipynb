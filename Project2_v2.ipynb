{
 "cells": [
  {
   "cell_type": "code",
   "execution_count": 128,
   "metadata": {},
   "outputs": [
    {
     "data": {
      "text/plain": [
       "['SQL Server',\n",
       " 'SQL Server Native Client 11.0',\n",
       " 'Microsoft Access Driver (*.mdb, *.accdb)',\n",
       " 'Microsoft Excel Driver (*.xls, *.xlsx, *.xlsm, *.xlsb)',\n",
       " 'Microsoft Access dBASE Driver (*.dbf, *.ndx, *.mdx)',\n",
       " 'Microsoft Access Text Driver (*.txt, *.csv)']"
      ]
     },
     "execution_count": 128,
     "metadata": {},
     "output_type": "execute_result"
    }
   ],
   "source": [
    "#Installed with Anaconda\n",
    "import pyodbc\n",
    "import numpy as np  \n",
    "import matplotlib.pyplot as plt\n",
    "\n",
    "[x for x in pyodbc.drivers()]"
   ]
  },
  {
   "cell_type": "code",
   "execution_count": 129,
   "metadata": {},
   "outputs": [
    {
     "name": "stdout",
     "output_type": "stream",
     "text": [
      "       playerID nameFirst nameLast        nameGiven  weight  height bats  \\\n",
      "0     abreujo02      Jose    Abreu      Jose Dariel     255      75    R   \n",
      "1     abreujo02      Jose    Abreu      Jose Dariel     255      75    R   \n",
      "2     abreujo02      Jose    Abreu      Jose Dariel     255      75    R   \n",
      "3     abreujo02      Jose    Abreu      Jose Dariel     255      75    R   \n",
      "4     abreujo02      Jose    Abreu      Jose Dariel     255      75    R   \n",
      "...         ...       ...      ...              ...     ...     ...  ...   \n",
      "6466  zuninmi01      Mike   Zunino  Michael Accorsi     220      74    R   \n",
      "6467  zuninmi01      Mike   Zunino  Michael Accorsi     220      74    R   \n",
      "6468  zuninmi01      Mike   Zunino  Michael Accorsi     220      74    R   \n",
      "6469  zuninmi01      Mike   Zunino  Michael Accorsi     220      74    R   \n",
      "6470  zuninmi01      Mike   Zunino  Michael Accorsi     220      74    R   \n",
      "\n",
      "     throws  birthYear  birthMonth  ...  CS  BB   SO IBB  HBP  SH SF GIDP  \\\n",
      "0         R       1987           1  ...   1  51  131  15   11   0  4   14   \n",
      "1         R       1987           1  ...   0  39  140  11   15   0  1   16   \n",
      "2         R       1987           1  ...   2  47  125   7   15   0  9   21   \n",
      "3         R       1987           1  ...   0  35  119   6   15   0  4   21   \n",
      "4         R       1987           1  ...   0  37  109   7   11   0  6   14   \n",
      "...     ...        ...         ...  ...  ..  ..  ...  ..  ...  .. ..  ...   \n",
      "6466      R       1991           3  ...   3  17  158   1   17   0  4   12   \n",
      "6467      R       1991           3  ...   1  21  132   0    5   8  2    6   \n",
      "6468      R       1991           3  ...   0  21   65   0    6   0  1    0   \n",
      "6469      R       1991           3  ...   0  39  160   0    8   0  1    8   \n",
      "6470      R       1991           3  ...   0  24  150   0    6   0  2    7   \n",
      "\n",
      "       first_last   Age  \n",
      "0      Jose Abreu  33.6  \n",
      "1      Jose Abreu  33.6  \n",
      "2      Jose Abreu  33.6  \n",
      "3      Jose Abreu  33.6  \n",
      "4      Jose Abreu  33.6  \n",
      "...           ...   ...  \n",
      "6466  Mike Zunino  29.5  \n",
      "6467  Mike Zunino  29.5  \n",
      "6468  Mike Zunino  29.5  \n",
      "6469  Mike Zunino  29.5  \n",
      "6470  Mike Zunino  29.5  \n",
      "\n",
      "[6471 rows x 37 columns]\n"
     ]
    }
   ],
   "source": [
    "import pandas as pd\n",
    "conn_str = r'Driver={Microsoft Access Driver (*.mdb, *.accdb)};DBQ=C:\\myaccessdatabase\\lahman_2018.mdb;'\n",
    "conn = pyodbc.connect(conn_str)\n",
    "\n",
    "dfColsBandP = pd.read_sql(\"\"\"\n",
    "SELECT * FROM ColsBandP\n",
    "\"\"\", conn)\n",
    "print(dfColsBandP)"
   ]
  },
  {
   "cell_type": "code",
   "execution_count": 130,
   "metadata": {},
   "outputs": [
    {
     "name": "stdout",
     "output_type": "stream",
     "text": [
      "       playerID        nameGiven  weight  height bats throws birthCountry  \\\n",
      "0     abreujo02      Jose Dariel     255      75    R      R         Cuba   \n",
      "1     abreujo02      Jose Dariel     255      75    R      R         Cuba   \n",
      "2     abreujo02      Jose Dariel     255      75    R      R         Cuba   \n",
      "3     abreujo02      Jose Dariel     255      75    R      R         Cuba   \n",
      "4     abreujo02      Jose Dariel     255      75    R      R         Cuba   \n",
      "...         ...              ...     ...     ...  ...    ...          ...   \n",
      "6466  zuninmi01  Michael Accorsi     220      74    R      R          USA   \n",
      "6467  zuninmi01  Michael Accorsi     220      74    R      R          USA   \n",
      "6468  zuninmi01  Michael Accorsi     220      74    R      R          USA   \n",
      "6469  zuninmi01  Michael Accorsi     220      74    R      R          USA   \n",
      "6470  zuninmi01  Michael Accorsi     220      74    R      R          USA   \n",
      "\n",
      "      birthState   birthCity  yearID  ...  CS  BB   SO  IBB  HBP  SH  SF  \\\n",
      "0     Cienfuegos  Cienfuegos    2014  ...   1  51  131   15   11   0   4   \n",
      "1     Cienfuegos  Cienfuegos    2015  ...   0  39  140   11   15   0   1   \n",
      "2     Cienfuegos  Cienfuegos    2016  ...   2  47  125    7   15   0   9   \n",
      "3     Cienfuegos  Cienfuegos    2017  ...   0  35  119    6   15   0   4   \n",
      "4     Cienfuegos  Cienfuegos    2018  ...   0  37  109    7   11   0   6   \n",
      "...          ...         ...     ...  ...  ..  ..  ...  ...  ...  ..  ..   \n",
      "6466          FL  Cape Coral    2014  ...   3  17  158    1   17   0   4   \n",
      "6467          FL  Cape Coral    2015  ...   1  21  132    0    5   8   2   \n",
      "6468          FL  Cape Coral    2016  ...   0  21   65    0    6   0   1   \n",
      "6469          FL  Cape Coral    2017  ...   0  39  160    0    8   0   1   \n",
      "6470          FL  Cape Coral    2018  ...   0  24  150    0    6   0   2   \n",
      "\n",
      "      GIDP   first_last   Age  \n",
      "0       14   Jose Abreu  33.6  \n",
      "1       16   Jose Abreu  33.6  \n",
      "2       21   Jose Abreu  33.6  \n",
      "3       21   Jose Abreu  33.6  \n",
      "4       14   Jose Abreu  33.6  \n",
      "...    ...          ...   ...  \n",
      "6466    12  Mike Zunino  29.5  \n",
      "6467     6  Mike Zunino  29.5  \n",
      "6468     0  Mike Zunino  29.5  \n",
      "6469     8  Mike Zunino  29.5  \n",
      "6470     7  Mike Zunino  29.5  \n",
      "\n",
      "[6471 rows x 32 columns]\n"
     ]
    }
   ],
   "source": [
    "#B: pandas how to drop columns\n",
    "#https://appdividend.com/2020/08/05/pandas-drop-column-example\n",
    "dfColsBandP.drop(columns=['nameFirst', 'nameLast', 'birthYear', 'birthMonth', 'birthDay'], inplace=True)\n",
    "print(dfColsBandP)"
   ]
  },
  {
   "cell_type": "code",
   "execution_count": 131,
   "metadata": {},
   "outputs": [
    {
     "data": {
      "text/html": [
       "<div>\n",
       "<style scoped>\n",
       "    .dataframe tbody tr th:only-of-type {\n",
       "        vertical-align: middle;\n",
       "    }\n",
       "\n",
       "    .dataframe tbody tr th {\n",
       "        vertical-align: top;\n",
       "    }\n",
       "\n",
       "    .dataframe thead th {\n",
       "        text-align: right;\n",
       "    }\n",
       "</style>\n",
       "<table border=\"1\" class=\"dataframe\">\n",
       "  <thead>\n",
       "    <tr style=\"text-align: right;\">\n",
       "      <th></th>\n",
       "      <th>playerID</th>\n",
       "      <th>nameGiven</th>\n",
       "      <th>weight</th>\n",
       "      <th>height</th>\n",
       "      <th>bats</th>\n",
       "      <th>throws</th>\n",
       "      <th>birthCountry</th>\n",
       "      <th>birthState</th>\n",
       "      <th>birthCity</th>\n",
       "      <th>yearID</th>\n",
       "      <th>...</th>\n",
       "      <th>CS</th>\n",
       "      <th>BB</th>\n",
       "      <th>SO</th>\n",
       "      <th>IBB</th>\n",
       "      <th>HBP</th>\n",
       "      <th>SH</th>\n",
       "      <th>SF</th>\n",
       "      <th>GIDP</th>\n",
       "      <th>first_last</th>\n",
       "      <th>Age</th>\n",
       "    </tr>\n",
       "  </thead>\n",
       "  <tbody>\n",
       "    <tr>\n",
       "      <th>0</th>\n",
       "      <td>abreujo02</td>\n",
       "      <td>Jose Dariel</td>\n",
       "      <td>255</td>\n",
       "      <td>75</td>\n",
       "      <td>R</td>\n",
       "      <td>R</td>\n",
       "      <td>Cuba</td>\n",
       "      <td>Cienfuegos</td>\n",
       "      <td>Cienfuegos</td>\n",
       "      <td>2014</td>\n",
       "      <td>...</td>\n",
       "      <td>1</td>\n",
       "      <td>51</td>\n",
       "      <td>131</td>\n",
       "      <td>15</td>\n",
       "      <td>11</td>\n",
       "      <td>0</td>\n",
       "      <td>4</td>\n",
       "      <td>14</td>\n",
       "      <td>Jose Abreu</td>\n",
       "      <td>33.6</td>\n",
       "    </tr>\n",
       "    <tr>\n",
       "      <th>1</th>\n",
       "      <td>abreujo02</td>\n",
       "      <td>Jose Dariel</td>\n",
       "      <td>255</td>\n",
       "      <td>75</td>\n",
       "      <td>R</td>\n",
       "      <td>R</td>\n",
       "      <td>Cuba</td>\n",
       "      <td>Cienfuegos</td>\n",
       "      <td>Cienfuegos</td>\n",
       "      <td>2015</td>\n",
       "      <td>...</td>\n",
       "      <td>0</td>\n",
       "      <td>39</td>\n",
       "      <td>140</td>\n",
       "      <td>11</td>\n",
       "      <td>15</td>\n",
       "      <td>0</td>\n",
       "      <td>1</td>\n",
       "      <td>16</td>\n",
       "      <td>Jose Abreu</td>\n",
       "      <td>33.6</td>\n",
       "    </tr>\n",
       "    <tr>\n",
       "      <th>2</th>\n",
       "      <td>abreujo02</td>\n",
       "      <td>Jose Dariel</td>\n",
       "      <td>255</td>\n",
       "      <td>75</td>\n",
       "      <td>R</td>\n",
       "      <td>R</td>\n",
       "      <td>Cuba</td>\n",
       "      <td>Cienfuegos</td>\n",
       "      <td>Cienfuegos</td>\n",
       "      <td>2016</td>\n",
       "      <td>...</td>\n",
       "      <td>2</td>\n",
       "      <td>47</td>\n",
       "      <td>125</td>\n",
       "      <td>7</td>\n",
       "      <td>15</td>\n",
       "      <td>0</td>\n",
       "      <td>9</td>\n",
       "      <td>21</td>\n",
       "      <td>Jose Abreu</td>\n",
       "      <td>33.6</td>\n",
       "    </tr>\n",
       "    <tr>\n",
       "      <th>3</th>\n",
       "      <td>abreujo02</td>\n",
       "      <td>Jose Dariel</td>\n",
       "      <td>255</td>\n",
       "      <td>75</td>\n",
       "      <td>R</td>\n",
       "      <td>R</td>\n",
       "      <td>Cuba</td>\n",
       "      <td>Cienfuegos</td>\n",
       "      <td>Cienfuegos</td>\n",
       "      <td>2017</td>\n",
       "      <td>...</td>\n",
       "      <td>0</td>\n",
       "      <td>35</td>\n",
       "      <td>119</td>\n",
       "      <td>6</td>\n",
       "      <td>15</td>\n",
       "      <td>0</td>\n",
       "      <td>4</td>\n",
       "      <td>21</td>\n",
       "      <td>Jose Abreu</td>\n",
       "      <td>33.6</td>\n",
       "    </tr>\n",
       "    <tr>\n",
       "      <th>4</th>\n",
       "      <td>abreujo02</td>\n",
       "      <td>Jose Dariel</td>\n",
       "      <td>255</td>\n",
       "      <td>75</td>\n",
       "      <td>R</td>\n",
       "      <td>R</td>\n",
       "      <td>Cuba</td>\n",
       "      <td>Cienfuegos</td>\n",
       "      <td>Cienfuegos</td>\n",
       "      <td>2018</td>\n",
       "      <td>...</td>\n",
       "      <td>0</td>\n",
       "      <td>37</td>\n",
       "      <td>109</td>\n",
       "      <td>7</td>\n",
       "      <td>11</td>\n",
       "      <td>0</td>\n",
       "      <td>6</td>\n",
       "      <td>14</td>\n",
       "      <td>Jose Abreu</td>\n",
       "      <td>33.6</td>\n",
       "    </tr>\n",
       "    <tr>\n",
       "      <th>...</th>\n",
       "      <td>...</td>\n",
       "      <td>...</td>\n",
       "      <td>...</td>\n",
       "      <td>...</td>\n",
       "      <td>...</td>\n",
       "      <td>...</td>\n",
       "      <td>...</td>\n",
       "      <td>...</td>\n",
       "      <td>...</td>\n",
       "      <td>...</td>\n",
       "      <td>...</td>\n",
       "      <td>...</td>\n",
       "      <td>...</td>\n",
       "      <td>...</td>\n",
       "      <td>...</td>\n",
       "      <td>...</td>\n",
       "      <td>...</td>\n",
       "      <td>...</td>\n",
       "      <td>...</td>\n",
       "      <td>...</td>\n",
       "      <td>...</td>\n",
       "    </tr>\n",
       "    <tr>\n",
       "      <th>6466</th>\n",
       "      <td>zuninmi01</td>\n",
       "      <td>Michael Accorsi</td>\n",
       "      <td>220</td>\n",
       "      <td>74</td>\n",
       "      <td>R</td>\n",
       "      <td>R</td>\n",
       "      <td>USA</td>\n",
       "      <td>FL</td>\n",
       "      <td>Cape Coral</td>\n",
       "      <td>2014</td>\n",
       "      <td>...</td>\n",
       "      <td>3</td>\n",
       "      <td>17</td>\n",
       "      <td>158</td>\n",
       "      <td>1</td>\n",
       "      <td>17</td>\n",
       "      <td>0</td>\n",
       "      <td>4</td>\n",
       "      <td>12</td>\n",
       "      <td>Mike Zunino</td>\n",
       "      <td>29.5</td>\n",
       "    </tr>\n",
       "    <tr>\n",
       "      <th>6467</th>\n",
       "      <td>zuninmi01</td>\n",
       "      <td>Michael Accorsi</td>\n",
       "      <td>220</td>\n",
       "      <td>74</td>\n",
       "      <td>R</td>\n",
       "      <td>R</td>\n",
       "      <td>USA</td>\n",
       "      <td>FL</td>\n",
       "      <td>Cape Coral</td>\n",
       "      <td>2015</td>\n",
       "      <td>...</td>\n",
       "      <td>1</td>\n",
       "      <td>21</td>\n",
       "      <td>132</td>\n",
       "      <td>0</td>\n",
       "      <td>5</td>\n",
       "      <td>8</td>\n",
       "      <td>2</td>\n",
       "      <td>6</td>\n",
       "      <td>Mike Zunino</td>\n",
       "      <td>29.5</td>\n",
       "    </tr>\n",
       "    <tr>\n",
       "      <th>6468</th>\n",
       "      <td>zuninmi01</td>\n",
       "      <td>Michael Accorsi</td>\n",
       "      <td>220</td>\n",
       "      <td>74</td>\n",
       "      <td>R</td>\n",
       "      <td>R</td>\n",
       "      <td>USA</td>\n",
       "      <td>FL</td>\n",
       "      <td>Cape Coral</td>\n",
       "      <td>2016</td>\n",
       "      <td>...</td>\n",
       "      <td>0</td>\n",
       "      <td>21</td>\n",
       "      <td>65</td>\n",
       "      <td>0</td>\n",
       "      <td>6</td>\n",
       "      <td>0</td>\n",
       "      <td>1</td>\n",
       "      <td>0</td>\n",
       "      <td>Mike Zunino</td>\n",
       "      <td>29.5</td>\n",
       "    </tr>\n",
       "    <tr>\n",
       "      <th>6469</th>\n",
       "      <td>zuninmi01</td>\n",
       "      <td>Michael Accorsi</td>\n",
       "      <td>220</td>\n",
       "      <td>74</td>\n",
       "      <td>R</td>\n",
       "      <td>R</td>\n",
       "      <td>USA</td>\n",
       "      <td>FL</td>\n",
       "      <td>Cape Coral</td>\n",
       "      <td>2017</td>\n",
       "      <td>...</td>\n",
       "      <td>0</td>\n",
       "      <td>39</td>\n",
       "      <td>160</td>\n",
       "      <td>0</td>\n",
       "      <td>8</td>\n",
       "      <td>0</td>\n",
       "      <td>1</td>\n",
       "      <td>8</td>\n",
       "      <td>Mike Zunino</td>\n",
       "      <td>29.5</td>\n",
       "    </tr>\n",
       "    <tr>\n",
       "      <th>6470</th>\n",
       "      <td>zuninmi01</td>\n",
       "      <td>Michael Accorsi</td>\n",
       "      <td>220</td>\n",
       "      <td>74</td>\n",
       "      <td>R</td>\n",
       "      <td>R</td>\n",
       "      <td>USA</td>\n",
       "      <td>FL</td>\n",
       "      <td>Cape Coral</td>\n",
       "      <td>2018</td>\n",
       "      <td>...</td>\n",
       "      <td>0</td>\n",
       "      <td>24</td>\n",
       "      <td>150</td>\n",
       "      <td>0</td>\n",
       "      <td>6</td>\n",
       "      <td>0</td>\n",
       "      <td>2</td>\n",
       "      <td>7</td>\n",
       "      <td>Mike Zunino</td>\n",
       "      <td>29.5</td>\n",
       "    </tr>\n",
       "  </tbody>\n",
       "</table>\n",
       "<p>6299 rows × 32 columns</p>\n",
       "</div>"
      ],
      "text/plain": [
       "       playerID        nameGiven  weight  height bats throws birthCountry  \\\n",
       "0     abreujo02      Jose Dariel     255      75    R      R         Cuba   \n",
       "1     abreujo02      Jose Dariel     255      75    R      R         Cuba   \n",
       "2     abreujo02      Jose Dariel     255      75    R      R         Cuba   \n",
       "3     abreujo02      Jose Dariel     255      75    R      R         Cuba   \n",
       "4     abreujo02      Jose Dariel     255      75    R      R         Cuba   \n",
       "...         ...              ...     ...     ...  ...    ...          ...   \n",
       "6466  zuninmi01  Michael Accorsi     220      74    R      R          USA   \n",
       "6467  zuninmi01  Michael Accorsi     220      74    R      R          USA   \n",
       "6468  zuninmi01  Michael Accorsi     220      74    R      R          USA   \n",
       "6469  zuninmi01  Michael Accorsi     220      74    R      R          USA   \n",
       "6470  zuninmi01  Michael Accorsi     220      74    R      R          USA   \n",
       "\n",
       "      birthState   birthCity  yearID  ...  CS  BB   SO  IBB  HBP  SH  SF  \\\n",
       "0     Cienfuegos  Cienfuegos    2014  ...   1  51  131   15   11   0   4   \n",
       "1     Cienfuegos  Cienfuegos    2015  ...   0  39  140   11   15   0   1   \n",
       "2     Cienfuegos  Cienfuegos    2016  ...   2  47  125    7   15   0   9   \n",
       "3     Cienfuegos  Cienfuegos    2017  ...   0  35  119    6   15   0   4   \n",
       "4     Cienfuegos  Cienfuegos    2018  ...   0  37  109    7   11   0   6   \n",
       "...          ...         ...     ...  ...  ..  ..  ...  ...  ...  ..  ..   \n",
       "6466          FL  Cape Coral    2014  ...   3  17  158    1   17   0   4   \n",
       "6467          FL  Cape Coral    2015  ...   1  21  132    0    5   8   2   \n",
       "6468          FL  Cape Coral    2016  ...   0  21   65    0    6   0   1   \n",
       "6469          FL  Cape Coral    2017  ...   0  39  160    0    8   0   1   \n",
       "6470          FL  Cape Coral    2018  ...   0  24  150    0    6   0   2   \n",
       "\n",
       "      GIDP   first_last   Age  \n",
       "0       14   Jose Abreu  33.6  \n",
       "1       16   Jose Abreu  33.6  \n",
       "2       21   Jose Abreu  33.6  \n",
       "3       21   Jose Abreu  33.6  \n",
       "4       14   Jose Abreu  33.6  \n",
       "...    ...          ...   ...  \n",
       "6466    12  Mike Zunino  29.5  \n",
       "6467     6  Mike Zunino  29.5  \n",
       "6468     0  Mike Zunino  29.5  \n",
       "6469     8  Mike Zunino  29.5  \n",
       "6470     7  Mike Zunino  29.5  \n",
       "\n",
       "[6299 rows x 32 columns]"
      ]
     },
     "execution_count": 131,
     "metadata": {},
     "output_type": "execute_result"
    }
   ],
   "source": [
    "dfColsBandP.dropna()"
   ]
  },
  {
   "cell_type": "code",
   "execution_count": 132,
   "metadata": {},
   "outputs": [
    {
     "name": "stdout",
     "output_type": "stream",
     "text": [
      "       playerID  SumOfB3B\n",
      "0     grandcu01      23.0\n",
      "1     reyesjo01      19.0\n",
      "2     reyesjo01      17.0\n",
      "3     reyesjo01      17.0\n",
      "4     reyesjo01      16.0\n",
      "...         ...       ...\n",
      "5989  mitchbr01       0.0\n",
      "5990  mitchbr01       0.0\n",
      "5991  mitchbr01       0.0\n",
      "5992  molinya01       0.0\n",
      "5993  minormi01       0.0\n",
      "\n",
      "[5994 rows x 2 columns]\n"
     ]
    }
   ],
   "source": [
    "dfTriplesPerYear = pd.read_sql(\"\"\"\n",
    "SELECT * FROM TriplesPerYear\n",
    "\"\"\", conn)\n",
    "print(dfTriplesPerYear)"
   ]
  },
  {
   "cell_type": "code",
   "execution_count": 133,
   "metadata": {},
   "outputs": [
    {
     "name": "stdout",
     "output_type": "stream",
     "text": [
      "0       23.0\n",
      "1       19.0\n",
      "2       17.0\n",
      "3       17.0\n",
      "4       16.0\n",
      "        ... \n",
      "5989     0.0\n",
      "5990     0.0\n",
      "5991     0.0\n",
      "5992     0.0\n",
      "5993     0.0\n",
      "Name: SumOfB3B, Length: 5994, dtype: float64\n"
     ]
    }
   ],
   "source": [
    "print(dfTriplesPerYear['SumOfB3B'])"
   ]
  },
  {
   "cell_type": "code",
   "execution_count": 134,
   "metadata": {},
   "outputs": [
    {
     "name": "stdout",
     "output_type": "stream",
     "text": [
      "0,\n",
      "2,\n",
      "4,\n",
      "6,\n",
      "8,\n",
      "10,\n",
      "12,\n",
      "14,\n",
      "16,\n",
      "18,\n",
      "20,\n",
      "22,\n",
      "24,\n"
     ]
    }
   ],
   "source": [
    "for x in range(0, 26, 2):\n",
    "  print(str(x) + \",\") "
   ]
  },
  {
   "cell_type": "code",
   "execution_count": 135,
   "metadata": {},
   "outputs": [
    {
     "data": {
      "image/png": "[encoded data removed]",
      "text/plain": [
       "<Figure size 432x288 with 1 Axes>"
      ]
     },
     "metadata": {
      "needs_background": "light"
     },
     "output_type": "display_data"
    }
   ],
   "source": [
    "# G: numpy histograms\n",
    "# https://www.tutorialspoint.com/numpy/numpy_histogram_using_matplotlib.htm\n",
    "a = np.array(dfTriplesPerYear['SumOfB3B'])\n",
    "plt.hist(a, bins = [0,\n",
    "2,\n",
    "4,\n",
    "6,\n",
    "8,\n",
    "10,\n",
    "12,\n",
    "14,\n",
    "16,\n",
    "18,\n",
    "20,\n",
    "22,\n",
    "24])\n",
    "plt.title(\"Histogram of Triples Per Player Per Year\") \n",
    "plt.show()"
   ]
  },
  {
   "cell_type": "code",
   "execution_count": 136,
   "metadata": {},
   "outputs": [
    {
     "name": "stdout",
     "output_type": "stream",
     "text": [
      "[4703  721  313  153   54   33    8    4    3    1    0    1]\n",
      "[ 0  2  4  6  8 10 12 14 16 18 20 22 24]\n"
     ]
    }
   ],
   "source": [
    "hist, bins = np.histogram(a,bins = [0,\n",
    "2,\n",
    "4,\n",
    "6,\n",
    "8,\n",
    "10,\n",
    "12,\n",
    "14,\n",
    "16,\n",
    "18,\n",
    "20,\n",
    "22,\n",
    "24]) \n",
    "print(hist) \n",
    "print(bins) "
   ]
  },
  {
   "cell_type": "code",
   "execution_count": 137,
   "metadata": {},
   "outputs": [
    {
     "name": "stdout",
     "output_type": "stream",
     "text": [
      "       playerID  Triples  Steals\n",
      "0     grandcu01     23.0    26.0\n",
      "1     reyesjo01     19.0    56.0\n",
      "2     reyesjo01     17.0    60.0\n",
      "3     reyesjo01     17.0    64.0\n",
      "4     reyesjo01     16.0    39.0\n",
      "...         ...      ...     ...\n",
      "5989  mitchbr01      0.0     0.0\n",
      "5990  mitchbr01      0.0     0.0\n",
      "5991  mitchbr01      0.0     0.0\n",
      "5992  molinya01      0.0     0.0\n",
      "5993  minormi01      0.0     0.0\n",
      "\n",
      "[5994 rows x 3 columns]\n"
     ]
    }
   ],
   "source": [
    "dfTriplesAndStealsPerYear = pd.read_sql(\"\"\"\n",
    "SELECT * FROM TriplesAndStealsPerYear\n",
    "\"\"\", conn)\n",
    "print(dfTriplesAndStealsPerYear)"
   ]
  },
  {
   "cell_type": "code",
   "execution_count": 138,
   "metadata": {},
   "outputs": [
    {
     "data": {
      "image/png": "[encoded data removed]",
      "text/plain": [
       "<Figure size 432x288 with 1 Axes>"
      ]
     },
     "metadata": {
      "needs_background": "light"
     },
     "output_type": "display_data"
    }
   ],
   "source": [
    "ax = np.array(dfTriplesAndStealsPerYear['Triples'])\n",
    "ay = np.array(dfTriplesAndStealsPerYear['Steals'])\n",
    "plt.scatter(ax, ay)\n",
    "\n",
    "# Strings\n",
    "xlab = 'Triples'\n",
    "ylab = 'Steals'\n",
    "title = 'Triples and Steals per Player per Year'\n",
    "\n",
    "# Add axis labels\n",
    "plt.xlabel(xlab)\n",
    "plt.ylabel(ylab)\n",
    "\n",
    "# Add title\n",
    "plt.title(title)\n",
    "\n",
    "plt.show()"
   ]
  },
  {
   "cell_type": "code",
   "execution_count": 139,
   "metadata": {},
   "outputs": [
    {
     "data": {
      "text/plain": [
       "array([[1.        , 0.67271896],\n",
       "       [0.67271896, 1.        ]])"
      ]
     },
     "execution_count": 139,
     "metadata": {},
     "output_type": "execute_result"
    }
   ],
   "source": [
    "np.corrcoef(ax, ay)"
   ]
  },
  {
   "cell_type": "code",
   "execution_count": 140,
   "metadata": {},
   "outputs": [
    {
     "name": "stdout",
     "output_type": "stream",
     "text": [
      "       playerID  Weight  HomeRuns\n",
      "0     stantmi03   245.0      59.0\n",
      "1     bautijo02   205.0      54.0\n",
      "2     davisch02   230.0      53.0\n",
      "3     judgeaa01   282.0      52.0\n",
      "4     pujolal01   240.0      49.0\n",
      "...         ...     ...       ...\n",
      "5989   matzst01   200.0       0.0\n",
      "5990   matzst01   200.0       0.0\n",
      "5991   matzst01   200.0       0.0\n",
      "5992  madsory01   234.0       0.0\n",
      "5993  martile01   200.0       0.0\n",
      "\n",
      "[5994 rows x 3 columns]\n"
     ]
    }
   ],
   "source": [
    "dfWeightAndHomeRuns = pd.read_sql(\"\"\"\n",
    "SELECT * FROM WeightAndHomeRuns\n",
    "\"\"\", conn)\n",
    "print(dfWeightAndHomeRuns)"
   ]
  },
  {
   "cell_type": "code",
   "execution_count": 141,
   "metadata": {},
   "outputs": [
    {
     "data": {
      "image/png": "[encoded data removed]",
      "text/plain": [
       "<Figure size 432x288 with 1 Axes>"
      ]
     },
     "metadata": {
      "needs_background": "light"
     },
     "output_type": "display_data"
    }
   ],
   "source": [
    "ax = np.array(dfWeightAndHomeRuns['Weight'])\n",
    "ay = np.array(dfWeightAndHomeRuns['HomeRuns'])\n",
    "plt.scatter(ax, ay)\n",
    "\n",
    "# Strings\n",
    "xlab = 'Weight'\n",
    "ylab = 'Home Runs'\n",
    "title = 'Weight and Home Runs per Player per Year'\n",
    "\n",
    "# Add axis labels\n",
    "plt.xlabel(xlab)\n",
    "plt.ylabel(ylab)\n",
    "\n",
    "# Add title\n",
    "plt.title(title)\n",
    "\n",
    "plt.show()"
   ]
  },
  {
   "cell_type": "code",
   "execution_count": 142,
   "metadata": {},
   "outputs": [
    {
     "data": {
      "text/plain": [
       "array([[1.        , 0.08266978],\n",
       "       [0.08266978, 1.        ]])"
      ]
     },
     "execution_count": 142,
     "metadata": {},
     "output_type": "execute_result"
    }
   ],
   "source": [
    "np.corrcoef(ax, ay)"
   ]
  },
  {
   "cell_type": "code",
   "execution_count": 143,
   "metadata": {},
   "outputs": [
    {
     "name": "stdout",
     "output_type": "stream",
     "text": [
      "       playerID  Weight   Hits\n",
      "0     suzukic01   175.0  262.0\n",
      "1     suzukic01   175.0  242.0\n",
      "2     suzukic01   175.0  238.0\n",
      "3     suzukic01   175.0  225.0\n",
      "4     altuvjo01   165.0  225.0\n",
      "...         ...     ...    ...\n",
      "5989  klubeco01   215.0    0.0\n",
      "5990  kintzbr01   194.0    0.0\n",
      "5991  kintzbr01   194.0    0.0\n",
      "5992  kintzbr01   194.0    0.0\n",
      "5993  knebeco01   220.0    0.0\n",
      "\n",
      "[5994 rows x 3 columns]\n"
     ]
    }
   ],
   "source": [
    "dfWeightAndHits = pd.read_sql(\"\"\"\n",
    "SELECT * FROM WeightAndHits\n",
    "\"\"\", conn)\n",
    "print(dfWeightAndHits)"
   ]
  },
  {
   "cell_type": "code",
   "execution_count": 144,
   "metadata": {},
   "outputs": [
    {
     "data": {
      "image/png": "[encoded data removed]",
      "text/plain": [
       "<Figure size 432x288 with 1 Axes>"
      ]
     },
     "metadata": {
      "needs_background": "light"
     },
     "output_type": "display_data"
    }
   ],
   "source": [
    "ax = np.array(dfWeightAndHits['Weight'])\n",
    "ay = np.array(dfWeightAndHits['Hits'])\n",
    "plt.scatter(ax, ay)\n",
    "\n",
    "# Strings\n",
    "xlab = 'Weight'\n",
    "ylab = 'Hits'\n",
    "title = 'Weight and Hits per Player per Year'\n",
    "\n",
    "# Add axis labels\n",
    "plt.xlabel(xlab)\n",
    "plt.ylabel(ylab)\n",
    "\n",
    "# Add title\n",
    "plt.title(title)\n",
    "\n",
    "plt.show()"
   ]
  },
  {
   "cell_type": "code",
   "execution_count": 145,
   "metadata": {},
   "outputs": [
    {
     "data": {
      "text/plain": [
       "array([[ 1.        , -0.05619476],\n",
       "       [-0.05619476,  1.        ]])"
      ]
     },
     "execution_count": 145,
     "metadata": {},
     "output_type": "execute_result"
    }
   ],
   "source": [
    "np.corrcoef(ax, ay)"
   ]
  },
  {
   "cell_type": "code",
   "execution_count": 146,
   "metadata": {},
   "outputs": [
    {
     "name": "stdout",
     "output_type": "stream",
     "text": [
      "       playerID  Height  Strikeout\n",
      "0     reynoma01    74.0      223.0\n",
      "1     davisch02    75.0      219.0\n",
      "2     moncayo01    74.0      217.0\n",
      "3     stantmi03    78.0      211.0\n",
      "4     reynoma01    74.0      211.0\n",
      "...         ...     ...        ...\n",
      "5989  jimenjo02    75.0        0.0\n",
      "5990  jepseke01    75.0        0.0\n",
      "5991  jepseke01    75.0        0.0\n",
      "5992  millean01    79.0        0.0\n",
      "5993  johnsji04    78.0        0.0\n",
      "\n",
      "[5994 rows x 3 columns]\n"
     ]
    }
   ],
   "source": [
    "dfHeightAndStrikeout = pd.read_sql(\"\"\"\n",
    "SELECT * FROM HeightAndStrikeout\n",
    "\"\"\", conn)\n",
    "print(dfHeightAndStrikeout)"
   ]
  },
  {
   "cell_type": "code",
   "execution_count": 147,
   "metadata": {},
   "outputs": [
    {
     "data": {
      "image/png": "[encoded data removed]",
      "text/plain": [
       "<Figure size 432x288 with 1 Axes>"
      ]
     },
     "metadata": {
      "needs_background": "light"
     },
     "output_type": "display_data"
    }
   ],
   "source": [
    "ax = np.array(dfHeightAndStrikeout['Height'])\n",
    "ay = np.array(dfHeightAndStrikeout['Strikeout'])\n",
    "plt.scatter(ax, ay)\n",
    "\n",
    "# Strings\n",
    "xlab = 'Height'\n",
    "ylab = 'Strikeouts'\n",
    "title = 'Height and Strikeouts per Player per Year'\n",
    "\n",
    "# Add axis labels\n",
    "plt.xlabel(xlab)\n",
    "plt.ylabel(ylab)\n",
    "\n",
    "# Add title\n",
    "plt.title(title)\n",
    "\n",
    "plt.show()"
   ]
  },
  {
   "cell_type": "code",
   "execution_count": 148,
   "metadata": {},
   "outputs": [
    {
     "data": {
      "text/plain": [
       "array([[ 1.        , -0.14342734],\n",
       "       [-0.14342734,  1.        ]])"
      ]
     },
     "execution_count": 148,
     "metadata": {},
     "output_type": "execute_result"
    }
   ],
   "source": [
    "np.corrcoef(ax, ay)"
   ]
  },
  {
   "cell_type": "code",
   "execution_count": null,
   "metadata": {},
   "outputs": [],
   "source": []
  }
 ],
 "metadata": {
  "kernelspec": {
   "display_name": "Python 3",
   "language": "python",
   "name": "python3"
  },
  "language_info": {
   "codemirror_mode": {
    "name": "ipython",
    "version": 3
   },
   "file_extension": ".py",
   "mimetype": "text/x-python",
   "name": "python",
   "nbconvert_exporter": "python",
   "pygments_lexer": "ipython3",
   "version": "3.8.3"
  }
 },
 "nbformat": 4,
 "nbformat_minor": 4
}
