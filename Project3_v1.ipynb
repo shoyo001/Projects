{
 "cells": [
  {
   "cell_type": "code",
   "execution_count": 1,
   "metadata": {},
   "outputs": [],
   "source": [
    "import pandas as pd\n",
    "import matplotlib.pyplot as plt\n",
    "import statistics as st\n",
    "#### LOAD PACKAGES \n",
    "import numpy as np\n",
    "import scipy.stats as ss\n",
    "import statsmodels.stats.weightstats as ws\n",
    "from scipy import stats\n",
    "import statsmodels.api as sm\n",
    "from statsmodels.stats.power import tt_ind_solve_power\n",
    "from statsmodels.stats.anova import anova_lm\n",
    "from sklearn.preprocessing import StandardScaler\n",
    "import seaborn as sns\n",
    "dfBoston = pd.read_csv(\"Housing.csv\")\n"
   ]
  },
  {
   "cell_type": "code",
   "execution_count": 2,
   "metadata": {},
   "outputs": [
    {
     "name": "stdout",
     "output_type": "stream",
     "text": [
      "stdev  2.76\n",
      "mean  5.94\n"
     ]
    }
   ],
   "source": [
    "INDUS = dfBoston['INDUS']\n",
    "print(\"stdev \",round(st.stdev(INDUS),2))\n",
    "print(\"mean \",round(st.mean(INDUS),2))\n"
   ]
  },
  {
   "cell_type": "code",
   "execution_count": 3,
   "metadata": {},
   "outputs": [
    {
     "name": "stdout",
     "output_type": "stream",
     "text": [
      "0,\n",
      "1,\n",
      "2,\n",
      "3,\n",
      "4,\n",
      "5,\n",
      "6,\n",
      "7,\n",
      "8,\n",
      "9,\n",
      "10,\n"
     ]
    }
   ],
   "source": [
    "for x in range(0, 11, 1):\n",
    "  print(str(x) + \",\") "
   ]
  },
  {
   "cell_type": "code",
   "execution_count": 4,
   "metadata": {},
   "outputs": [
    {
     "data": {
      "image/png": "[encoded data removed]",
      "text/plain": [
       "<Figure size 288x216 with 1 Axes>"
      ]
     },
     "metadata": {
      "needs_background": "light"
     },
     "output_type": "display_data"
    }
   ],
   "source": [
    "plt.figure(figsize=(4, 3))\n",
    "plt.hist(dfBoston['INDUS'], bins=[0,\n",
    "1,\n",
    "2,\n",
    "3,\n",
    "4,\n",
    "5,\n",
    "6,\n",
    "7,\n",
    "8,\n",
    "9,\n",
    "10])\n",
    "plt.xlabel('Percent')\n",
    "plt.ylabel('Count')\n",
    "plt.tight_layout()\n"
   ]
  },
  {
   "cell_type": "code",
   "execution_count": 5,
   "metadata": {},
   "outputs": [
    {
     "name": "stdout",
     "output_type": "stream",
     "text": [
      "          INDUS      MEDV\n",
      "INDUS  1.000000 -0.344325\n",
      "MEDV  -0.344325  1.000000\n"
     ]
    },
    {
     "data": {
      "text/plain": [
       "-0.344"
      ]
     },
     "execution_count": 5,
     "metadata": {},
     "output_type": "execute_result"
    }
   ],
   "source": [
    "corr_mat = dfBoston[['INDUS', 'MEDV']].corr()\n",
    "print(corr_mat)\n",
    "corr_mat.iloc[1,0].round(3)"
   ]
  },
  {
   "cell_type": "markdown",
   "metadata": {},
   "source": [
    "Mod5_Lab1_-_Correlation\n",
    "Correlation\tMeaning\n",
    "1.\t0 - 0.1\tNegligible\n",
    "2.\t0.1 - 0.3\tSmall\n",
    "3.\t0.3 - 0.5\tMedium\n",
    "4.\t0.50 +\tLarge\n"
   ]
  },
  {
   "cell_type": "code",
   "execution_count": 6,
   "metadata": {},
   "outputs": [
    {
     "name": "stdout",
     "output_type": "stream",
     "text": [
      "                            OLS Regression Results                            \n",
      "==============================================================================\n",
      "Dep. Variable:                   MEDV   R-squared:                       0.119\n",
      "Model:                            OLS   Adj. R-squared:                  0.117\n",
      "Method:                 Least Squares   F-statistic:                     67.79\n",
      "Date:                Tue, 29 Sep 2020   Prob (F-statistic):           1.57e-15\n",
      "Time:                        12:14:38   Log-Likelihood:                -1808.3\n",
      "No. Observations:                 506   AIC:                             3621.\n",
      "Df Residuals:                     504   BIC:                             3629.\n",
      "Df Model:                           1                                         \n",
      "Covariance Type:            nonrobust                                         \n",
      "==============================================================================\n",
      "                 coef    std err          t      P>|t|      [0.025      0.975]\n",
      "------------------------------------------------------------------------------\n",
      "INDUS         -1.1474      0.139     -8.234      0.000      -1.421      -0.874\n",
      "const         29.3475      0.913     32.161      0.000      27.555      31.140\n",
      "==============================================================================\n",
      "Omnibus:                      130.083   Durbin-Watson:                   0.593\n",
      "Prob(Omnibus):                  0.000   Jarque-Bera (JB):              286.004\n",
      "Skew:                           1.354   Prob(JB):                     7.85e-63\n",
      "Kurtosis:                       5.497   Cond. No.                         15.9\n",
      "==============================================================================\n",
      "\n",
      "Warnings:\n",
      "[1] Standard Errors assume that the covariance matrix of the errors is correctly specified.\n"
     ]
    }
   ],
   "source": [
    "predictors = sm.add_constant(dfBoston.INDUS, prepend = False)\n",
    "\n",
    "lm_mod = sm.OLS(dfBoston.MEDV, predictors)\n",
    "res = lm_mod.fit()\n",
    "print(res.summary())\n",
    "#Mod5_Lab2_-_Regression\n",
    "# it essentially represents the proportion of the variance in the outcome (MDEV) that is explained by the predictor(s)"
   ]
  },
  {
   "cell_type": "markdown",
   "metadata": {},
   "source": [
    "`Charles River Hypotheses`\n",
    "#G: dummy variable comparing groups\n",
    "#Comparing Group Means using Regression - UTC.eduwww.utc.edu › docs › p5130_lec09_qualitative_ivs  \n",
    "\n",
    "`When the independent variable is a dichotomy, the simple regression of Y onto the dichotomy gives\n",
    "#the same test of difference in group means as the equal variances assumed independent groups t-test.`\n",
    "\n",
    "#https://libguides.library.kent.edu/SPSS/IndependentTTest\n",
    "#Researchers often follow several rules of thumb:\n",
    "\n",
    "#Each group should have at least 6 subjects, ideally more. Inferences for the population will be more tenuous with \n",
    "#too few subjects.\n",
    "#A balanced design (i.e., same number of subjects in each group) is ideal. Extremely unbalanced designs\n",
    "\n",
    "#increase the possibility that violating any of the requirements/assumptions will threaten the validity of \n",
    "#the Independent Samples t Test.\n",
    "\n",
    "#Hypotheses\n",
    "#The null hypothesis (H0) and alternative hypothesis (H1) of the Independent Samples t Test can be expressed \n",
    "#in two different but equivalent ways:\n",
    "\n",
    "#H0: µ1 = µ2 (\"the two population means are equal\")\n",
    "#H1: µ1 ≠ µ2 (\"the two population means are not equal\")\n",
    "\n",
    "#OR\n",
    "\n",
    "#H0: µ1 - µ2 = 0 (\"the difference between the two population means is equal to 0\")\n",
    "#H1: µ1 - µ2 ≠ 0 (\"the difference between the two population means is not 0\")\n",
    "\n",
    "#where µ1 and µ2 are the population means for group 1 and group 2, respectively. \n",
    "#Notice that the second set of hypotheses can be derived from the first set by simply subtracting µ2 \n",
    "#from both sides of the equation."
   ]
  },
  {
   "cell_type": "markdown",
   "metadata": {},
   "source": [
    "`H0: The Median Value of homes bordering the Charles River is no different than the Median Value of homes \n",
    "not bordering the Charles River  \n",
    "H1: The Median Value of homes bordering the Charles River is different from the Median Value of homes \n",
    "not bordering the Charles River`"
   ]
  },
  {
   "cell_type": "markdown",
   "metadata": {},
   "source": [
    "`Mod5_Lab3_-_Experiments\n",
    "Whenever you compare (means of) two groups, you conduct an independent samples t-test. \n",
    "You can also use regression (run a regression predicting your outcome from your two-group predictor)`, \n",
    "#but the t-test is commonly done and is illustrated here."
   ]
  },
  {
   "cell_type": "code",
   "execution_count": 7,
   "metadata": {},
   "outputs": [
    {
     "name": "stdout",
     "output_type": "stream",
     "text": [
      "                            OLS Regression Results                            \n",
      "==============================================================================\n",
      "Dep. Variable:                   MEDV   R-squared:                       0.031\n",
      "Model:                            OLS   Adj. R-squared:                  0.029\n",
      "Method:                 Least Squares   F-statistic:                     15.97\n",
      "Date:                Tue, 29 Sep 2020   Prob (F-statistic):           7.39e-05\n",
      "Time:                        12:14:38   Log-Likelihood:                -1832.3\n",
      "No. Observations:                 506   AIC:                             3669.\n",
      "Df Residuals:                     504   BIC:                             3677.\n",
      "Df Model:                           1                                         \n",
      "Covariance Type:            nonrobust                                         \n",
      "==============================================================================\n",
      "                 coef    std err          t      P>|t|      [0.025      0.975]\n",
      "------------------------------------------------------------------------------\n",
      "CHAS           6.3462      1.588      3.996      0.000       3.226       9.466\n",
      "const         22.0938      0.418     52.902      0.000      21.273      22.914\n",
      "==============================================================================\n",
      "Omnibus:                       81.923   Durbin-Watson:                   0.579\n",
      "Prob(Omnibus):                  0.000   Jarque-Bera (JB):              125.534\n",
      "Skew:                           1.043   Prob(JB):                     5.50e-28\n",
      "Kurtosis:                       4.267   Cond. No.                         3.96\n",
      "==============================================================================\n",
      "\n",
      "Warnings:\n",
      "[1] Standard Errors assume that the covariance matrix of the errors is correctly specified.\n"
     ]
    }
   ],
   "source": [
    "predictors = sm.add_constant(dfBoston.CHAS, prepend = False)\n",
    "\n",
    "lm_mod = sm.OLS(dfBoston.MEDV, predictors)\n",
    "res = lm_mod.fit()\n",
    "print(res.summary())"
   ]
  },
  {
   "cell_type": "code",
   "execution_count": 8,
   "metadata": {},
   "outputs": [
    {
     "data": {
      "text/plain": [
       "DegFreedom    36.876409\n",
       "Difference     6.346157\n",
       "Statistic      3.996437\n",
       "PValue         0.000074\n",
       "Low95CI        2.215483\n",
       "High95CI      10.476831\n",
       "dtype: float64"
      ]
     },
     "execution_count": 8,
     "metadata": {},
     "output_type": "execute_result"
    }
   ],
   "source": [
    "#Mod5_Lab3_-_Experiments\n",
    "#dat.loc[dat.logo == 'Logo A', 'sentiment']\n",
    "dfchas0 = dfBoston.loc[dfBoston.CHAS == 0, 'MEDV']\n",
    "dfchas1 = dfBoston.loc[dfBoston.CHAS == 1, 'MEDV']\n",
    "\n",
    "def t_test_two_samp(a, b, alpha, alternative='two-sided'):\n",
    "    \n",
    "    diff = a.mean() - b.mean()\n",
    "\n",
    "    res = ss.ttest_ind(a, b)\n",
    "      \n",
    "    means = ws.CompareMeans(ws.DescrStatsW(a), ws.DescrStatsW(b))\n",
    "    confint = means.tconfint_diff(alpha=alpha, alternative=alternative, usevar='unequal') \n",
    "    degfree = means.dof_satt()\n",
    "\n",
    "    index = ['DegFreedom', 'Difference', 'Statistic', 'PValue', 'Low95CI', 'High95CI']\n",
    "    return pd.Series([degfree, diff, res[0], res[1], confint[0], confint[1]], index = index)   \n",
    "   \n",
    "\n",
    "test = t_test_two_samp(dfchas1, dfchas0, 0.05)\n",
    "test"
   ]
  },
  {
   "cell_type": "code",
   "execution_count": 9,
   "metadata": {},
   "outputs": [
    {
     "name": "stdout",
     "output_type": "stream",
     "text": [
      "0      24.0\n",
      "1      21.6\n",
      "2      34.7\n",
      "3      33.4\n",
      "4      36.2\n",
      "       ... \n",
      "501    22.4\n",
      "502    20.6\n",
      "503    23.9\n",
      "504    22.0\n",
      "505    11.9\n",
      "Name: MEDV, Length: 471, dtype: float64\n"
     ]
    }
   ],
   "source": [
    "print(dfchas0)\n",
    "\n"
   ]
  },
  {
   "cell_type": "code",
   "execution_count": 10,
   "metadata": {},
   "outputs": [
    {
     "name": "stdout",
     "output_type": "stream",
     "text": [
      "142    13.4\n",
      "152    15.3\n",
      "154    17.0\n",
      "155    15.6\n",
      "160    27.0\n",
      "162    50.0\n",
      "163    50.0\n",
      "208    24.4\n",
      "209    20.0\n",
      "210    21.7\n",
      "211    19.3\n",
      "212    22.4\n",
      "216    23.3\n",
      "218    21.5\n",
      "219    23.0\n",
      "220    26.7\n",
      "221    21.7\n",
      "222    27.5\n",
      "234    29.0\n",
      "236    25.1\n",
      "269    20.7\n",
      "273    35.2\n",
      "274    32.4\n",
      "276    33.2\n",
      "277    33.1\n",
      "282    46.0\n",
      "283    50.0\n",
      "356    17.8\n",
      "357    21.7\n",
      "358    22.7\n",
      "363    16.8\n",
      "364    21.9\n",
      "369    50.0\n",
      "370    50.0\n",
      "372    50.0\n",
      "Name: MEDV, dtype: float64\n"
     ]
    }
   ],
   "source": [
    "print(dfchas1)"
   ]
  },
  {
   "cell_type": "code",
   "execution_count": 11,
   "metadata": {},
   "outputs": [
    {
     "data": {
      "text/plain": [
       "(25.062586315862976, 31.817413667029342)"
      ]
     },
     "execution_count": 11,
     "metadata": {},
     "output_type": "execute_result"
    }
   ],
   "source": [
    "#https://www.statology.org/confidence-intervals-python/\n",
    "ss.t.interval(alpha=0.90, df=len(dfchas1)-1, loc=np.mean(dfchas1), scale=ss.sem(dfchas1)) \n"
   ]
  },
  {
   "cell_type": "code",
   "execution_count": 12,
   "metadata": {},
   "outputs": [
    {
     "data": {
      "text/plain": [
       "35.042258702728816"
      ]
     },
     "execution_count": 12,
     "metadata": {},
     "output_type": "execute_result"
    }
   ],
   "source": [
    "tt_ind_solve_power(effect_size=0.6, nobs1 = None, alpha=0.10, power=0.8, ratio=1, alternative='two-sided')"
   ]
  },
  {
   "cell_type": "markdown",
   "metadata": {},
   "source": [
    "`Features`: Funeral Home, Coin Laundry, Public Library within a certain number of miles of each census tract\n",
    "Mod5_Lab3_-_Experiments\n",
    "In the `between-subjects design`, we compare means across groups.\n",
    "Variables FuneralHome, CoinLaundry, PublicLibrary (1 if census tract within designated distance of the particular feaure; 0 otherwise)  \n",
    "`Plan of Analysis`: ANOVA and multiple regression (equivalent)\n",
    "\n"
   ]
  },
  {
   "cell_type": "code",
   "execution_count": 13,
   "metadata": {},
   "outputs": [
    {
     "data": {
      "text/plain": [
       "48.26824108396876"
      ]
     },
     "execution_count": 13,
     "metadata": {},
     "output_type": "execute_result"
    }
   ],
   "source": [
    "tt_ind_solve_power(effect_size=0.6, nobs1 = None, alpha=0.10, power=0.9, ratio=1, alternative='two-sided')"
   ]
  },
  {
   "cell_type": "markdown",
   "metadata": {},
   "source": [
    "I want to use 90% power so, a group size of 48 to 50 census tracts"
   ]
  }
 ],
 "metadata": {
  "kernelspec": {
   "display_name": "Python 3",
   "language": "python",
   "name": "python3"
  },
  "language_info": {
   "codemirror_mode": {
    "name": "ipython",
    "version": 3
   },
   "file_extension": ".py",
   "mimetype": "text/x-python",
   "name": "python",
   "nbconvert_exporter": "python",
   "pygments_lexer": "ipython3",
   "version": "3.8.3"
  }
 },
 "nbformat": 4,
 "nbformat_minor": 4
}
